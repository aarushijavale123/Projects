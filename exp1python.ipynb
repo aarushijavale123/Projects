{
  "nbformat": 4,
  "nbformat_minor": 0,
  "metadata": {
    "colab": {
      "provenance": [],
      "toc_visible": true
    },
    "kernelspec": {
      "name": "python3",
      "display_name": "Python 3"
    },
    "language_info": {
      "name": "python"
    }
  },
  "cells": [
    {
      "cell_type": "code",
      "execution_count": null,
      "metadata": {
        "colab": {
          "base_uri": "https://localhost:8080/"
        },
        "id": "MVJSeSX6c1_-",
        "outputId": "a77a1c9e-3a8e-411f-b1b5-8a0a5e549c0a"
      },
      "outputs": [
        {
          "output_type": "stream",
          "name": "stdout",
          "text": [
            "enter x2\n",
            "enter y3\n",
            "Sum is: 5\n",
            "Difference is: -1\n",
            "enter x11\n",
            "not a single digit no.\n",
            "2\n",
            "True\n",
            "False\n",
            "False\n"
          ]
        }
      ],
      "source": [
        " x=int(input(\"enter x\"))\n",
        "y=int(input(\"enter y\"))\n",
        "sum=x+y\n",
        "print(\"Sum is:\",sum)\n",
        "difference=x-y\n",
        "print(\"Difference is:\",difference)\n",
        "\n",
        "#logical\n",
        "x=int(input(\"enter x\"))\n",
        "if x>0 and x<10:\n",
        "    print(\"It is a single digit number\")\n",
        "else:\n",
        "    print(\"not a single digit no.\")\n",
        "\n",
        "#bitwise\n",
        "print(6 & 3)\n",
        "\n",
        "#identity\n",
        "x=[\"abc\",\"def\"]\n",
        "y=x\n",
        "z=[\"abc\",\"def\"]\n",
        "print(x is y)\n",
        "print(y is z)\n",
        "print( z is x)"
      ]
    },
    {
      "cell_type": "code",
      "source": [
        " #calculate area and perimeter of a square\n",
        "side=float(input(\"enter the side of the square\"))\n",
        "perimeter_square=4*side\n",
        "area_square=side*side\n",
        "print(\"The perimeter is:\")\n",
        "print(perimeter_square)\n",
        "print(\"The area is:\")\n",
        "print(area_square)"
      ],
      "metadata": {
        "colab": {
          "base_uri": "https://localhost:8080/"
        },
        "id": "1nyEA7JTde4u",
        "outputId": "576717fa-a806-4cb7-ea0e-9605527fd0ee"
      },
      "execution_count": null,
      "outputs": [
        {
          "output_type": "stream",
          "name": "stdout",
          "text": [
            "enter the side of the square2\n",
            "The perimeter is:\n",
            "8.0\n",
            "The area is:\n",
            "4.0\n"
          ]
        }
      ]
    },
    {
      "cell_type": "code",
      "source": [
        "#swap values\n",
        "x=int(input(\"enter value of x\"))\n",
        "y=int(input(\"enter value of y\"))\n",
        "temp=x\n",
        "x=y\n",
        "y=temp\n",
        "print(\"value of x is\",x)\n",
        "print(\"value of y is:\",y)"
      ],
      "metadata": {
        "colab": {
          "base_uri": "https://localhost:8080/"
        },
        "id": "gbqr_Irxdrcx",
        "outputId": "26f6d653-ba2f-4027-92bf-5aa73d251858"
      },
      "execution_count": null,
      "outputs": [
        {
          "output_type": "stream",
          "name": "stdout",
          "text": [
            "enter value of x5\n",
            "enter value of y6\n",
            "value of x is 6\n",
            "value of y is: 5\n"
          ]
        }
      ]
    },
    {
      "cell_type": "code",
      "source": [
        " #even odd\n",
        "num=int(input(\"enter a no. to check\"))\n",
        "if num%2==0:\n",
        "    print(\"No. is even\")\n",
        "else:\n",
        "    print(\"No. is odd\")"
      ],
      "metadata": {
        "colab": {
          "base_uri": "https://localhost:8080/"
        },
        "id": "tffwJTjUdxh_",
        "outputId": "fea4ac32-b66e-4883-97f6-81deb984e590"
      },
      "execution_count": null,
      "outputs": [
        {
          "output_type": "stream",
          "name": "stdout",
          "text": [
            "enter a no. to check3\n",
            "No. is odd\n"
          ]
        }
      ]
    },
    {
      "cell_type": "code",
      "source": [
        "side_a = 5\n",
        "side_b= 6\n",
        "side_c = 7\n",
        "\n",
        "semi_perimeter = (side_a +side_b + side_c) / 2\n",
        "\n",
        "area = (semi_perimeter*(semi_perimeter-side_a)*(semi_perimeter-side_b)*(semi_perimeter-side_c)) ** 0.5\n",
        "print(\"The area is :\",area)"
      ],
      "metadata": {
        "colab": {
          "base_uri": "https://localhost:8080/"
        },
        "id": "BvrMDvfWd3AA",
        "outputId": "11a2fc7d-460c-453c-fade-0dc6ad369dbc"
      },
      "execution_count": null,
      "outputs": [
        {
          "output_type": "stream",
          "name": "stdout",
          "text": [
            "The area is : 14.696938456699069\n"
          ]
        }
      ]
    },
    {
      "cell_type": "code",
      "source": [],
      "metadata": {
        "id": "WZsoLaDeeLut"
      },
      "execution_count": null,
      "outputs": []
    }
  ]
}