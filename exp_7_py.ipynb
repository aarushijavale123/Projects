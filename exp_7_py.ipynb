{
  "nbformat": 4,
  "nbformat_minor": 0,
  "metadata": {
    "colab": {
      "provenance": [],
      "authorship_tag": "ABX9TyM64hSaUJ/tVB4usitbc4kR",
      "include_colab_link": true
    },
    "kernelspec": {
      "name": "python3",
      "display_name": "Python 3"
    },
    "language_info": {
      "name": "python"
    }
  },
  "cells": [
    {
      "cell_type": "markdown",
      "metadata": {
        "id": "view-in-github",
        "colab_type": "text"
      },
      "source": [
        "<a href=\"https://colab.research.google.com/github/aarushijavale123/Projects/blob/main/exp_7_py.ipynb\" target=\"_parent\"><img src=\"https://colab.research.google.com/assets/colab-badge.svg\" alt=\"Open In Colab\"/></a>"
      ]
    },
    {
      "cell_type": "code",
      "execution_count": null,
      "metadata": {
        "colab": {
          "base_uri": "https://localhost:8080/"
        },
        "id": "Ch0H6s54i0DL",
        "outputId": "ad66193e-24ac-4b82-831e-8d634380e5fd"
      },
      "outputs": [
        {
          "output_type": "stream",
          "name": "stdout",
          "text": [
            "{1, 2, 3, 4, 5}\n",
            "1\n",
            "2\n",
            "3\n",
            "4\n",
            "5\n",
            "{1, 2, 3, 4, 5, 6, 7, 8, 9}\n",
            "{1, 2, 4, 5, 6, 7, 8, 9}\n"
          ]
        }
      ],
      "source": [
        "#Code 1:\n",
        "my_set={1,2,3,4,5}\n",
        "print(my_set)\n",
        "for item in my_set:\n",
        "  print(item)\n",
        "my_set.add(6)\n",
        "my_set.update([7,8,9])\n",
        "print(my_set)\n",
        "my_set.remove(3)\n",
        "my_set.discard(10)\n",
        "print(my_set)\n",
        "del my_set"
      ]
    },
    {
      "cell_type": "code",
      "source": [
        "#Code 2:\n",
        "A={1,2,3,4,5}\n",
        "B={4,5,6,7,8}\n",
        "print(\"Insertion:\",A&B)\n",
        "print(\"Union:\",A|B)\n",
        "print(\"Difference(A-B):\",A-B)\n",
        "print(\"Symmetric Difference:\",A^B)\n",
        "A.clear()\n",
        "print(\"Set after clear:\",A)"
      ],
      "metadata": {
        "colab": {
          "base_uri": "https://localhost:8080/"
        },
        "id": "qlNjkJM9i821",
        "outputId": "d6786a88-6d44-480e-e2ee-1a9813d8da46"
      },
      "execution_count": null,
      "outputs": [
        {
          "output_type": "stream",
          "name": "stdout",
          "text": [
            "Insertion: {4, 5}\n",
            "Union: {1, 2, 3, 4, 5, 6, 7, 8}\n",
            "Difference(A-B): {1, 2, 3}\n",
            "Symmetric Difference: {1, 2, 3, 6, 7, 8}\n",
            "Set after clear: set()\n"
          ]
        }
      ]
    },
    {
      "cell_type": "code",
      "source": [
        "#Code 3:\n",
        "set1={10,20,30}\n",
        "set1.add(40)\n",
        "set1.update([50,60])\n",
        "print(set1)\n",
        "set1.remove(30)\n",
        "print(set1)"
      ],
      "metadata": {
        "colab": {
          "base_uri": "https://localhost:8080/"
        },
        "id": "750gMyqOi_xa",
        "outputId": "e8cb339f-5da0-4b52-aebf-bb34f3bc4213"
      },
      "execution_count": null,
      "outputs": [
        {
          "output_type": "stream",
          "name": "stdout",
          "text": [
            "{40, 10, 50, 20, 60, 30}\n",
            "{40, 10, 50, 20, 60}\n"
          ]
        }
      ]
    },
    {
      "cell_type": "code",
      "source": [
        "#Code 4:\n",
        "A={1,2,3,4,5}\n",
        "B={3,4,6,5,7}\n",
        "diff=A-B\n",
        "print(diff)"
      ],
      "metadata": {
        "colab": {
          "base_uri": "https://localhost:8080/"
        },
        "id": "Za1eEjQDjCxI",
        "outputId": "12eca43f-65b4-4e4f-af52-0c0b0e153b25"
      },
      "execution_count": null,
      "outputs": [
        {
          "output_type": "stream",
          "name": "stdout",
          "text": [
            "{1, 2}\n"
          ]
        }
      ]
    },
    {
      "cell_type": "code",
      "source": [
        "#Code 5:\n",
        "String=\"hello!\"\n",
        "str_set=set(String)\n",
        "print(str_set)"
      ],
      "metadata": {
        "colab": {
          "base_uri": "https://localhost:8080/"
        },
        "id": "RTxRMfZVjE3U",
        "outputId": "942f9197-3959-44d4-d0cc-28521cf34882"
      },
      "execution_count": null,
      "outputs": [
        {
          "output_type": "stream",
          "name": "stdout",
          "text": [
            "{'o', '!', 'h', 'l', 'e'}\n"
          ]
        }
      ]
    },
    {
      "cell_type": "code",
      "source": [
        "#Code 6:\n",
        "set1={1,2,3,4}\n",
        "set2={3,4,5,6}\n",
        "common=set1&set2\n",
        "if common:\n",
        "  print(\"Sets have common elements:\",common)\n",
        "else:\n",
        "  print(\"No common element\")"
      ],
      "metadata": {
        "colab": {
          "base_uri": "https://localhost:8080/"
        },
        "id": "qYDmBZ9gjHOe",
        "outputId": "dc68ed81-2f90-414c-ac8f-11d4bf7d4dea"
      },
      "execution_count": null,
      "outputs": [
        {
          "output_type": "stream",
          "name": "stdout",
          "text": [
            "Sets have common elements: {3, 4}\n"
          ]
        }
      ]
    }
  ]
}