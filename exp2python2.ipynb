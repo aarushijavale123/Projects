{
  "nbformat": 4,
  "nbformat_minor": 0,
  "metadata": {
    "colab": {
      "provenance": [],
      "authorship_tag": "ABX9TyNtVrGi92lYuPZVT2jrA7zL",
      "include_colab_link": true
    },
    "kernelspec": {
      "name": "python3",
      "display_name": "Python 3"
    },
    "language_info": {
      "name": "python"
    }
  },
  "cells": [
    {
      "cell_type": "markdown",
      "metadata": {
        "id": "view-in-github",
        "colab_type": "text"
      },
      "source": [
        "<a href=\"https://colab.research.google.com/github/aarushijavale123/Projects/blob/main/exp2python2.ipynb\" target=\"_parent\"><img src=\"https://colab.research.google.com/assets/colab-badge.svg\" alt=\"Open In Colab\"/></a>"
      ]
    },
    {
      "cell_type": "code",
      "execution_count": null,
      "metadata": {
        "colab": {
          "base_uri": "https://localhost:8080/"
        },
        "id": "IACbjzRJK6uk",
        "outputId": "a397df21-2592-450a-92db-f3231f334712"
      },
      "outputs": [
        {
          "output_type": "stream",
          "name": "stdout",
          "text": [
            "enter year:2025\n",
            "It is not a leap year\n"
          ]
        }
      ],
      "source": [
        "#To check if it is aleap year\n",
        "year=int(input(\"enter year:\"))\n",
        "if year%4==0:\n",
        "  print(\"It is a leap year\")\n",
        "else:\n",
        "  print(\"It is not a leap year\")"
      ]
    },
    {
      "cell_type": "code",
      "source": [
        "#To display grade for marks\n",
        "maths=int(input(\"Enter marks of the first subject: \"))\n",
        "physics=int(input(\"Enter marks of the second subject: \"))\n",
        "chemistry=int(input(\"Enter marks of the third subject: \"))\n",
        "computer=int(input(\"Enter marks of the fourth subject: \"))\n",
        "graphics=int(input(\"Enter marks of the fifth subject: \"))\n",
        "avg=(maths+physics+chemistry+computer+graphics)/5\n",
        "if(avg>=90):\n",
        "    print(\"Grade: A\")\n",
        "elif(avg>=80 and avg<90):\n",
        "    print(\"Grade: B\")\n",
        "elif(avg>=70 and avg<80):\n",
        "    print(\"Grade: C\")\n",
        "elif(avg>=60 and avg<70):\n",
        "    print(\"Grade: D\")\n",
        "else:\n",
        "    print(\"Grade: F(FAIL)\")\n"
      ],
      "metadata": {
        "colab": {
          "base_uri": "https://localhost:8080/"
        },
        "id": "XWwWPWkhLUay",
        "outputId": "7e5c6ef6-bce5-4456-9158-27109e12eadf"
      },
      "execution_count": null,
      "outputs": [
        {
          "output_type": "stream",
          "name": "stdout",
          "text": [
            "Enter marks of the first subject: 90\n",
            "Enter marks of the second subject: 89\n",
            "Enter marks of the third subject: 78\n",
            "Enter marks of the fourth subject: 67\n",
            "Enter marks of the fifth subject: 56\n",
            "Grade: C\n"
          ]
        }
      ]
    },
    {
      "cell_type": "code",
      "source": [
        "#To find square root of a number\n",
        "import math\n",
        "num=int(input(\"enter number to find square root:\"))\n",
        "print(\"The square root is:\")\n",
        "print(math.sqrt(num))"
      ],
      "metadata": {
        "colab": {
          "base_uri": "https://localhost:8080/"
        },
        "id": "2cO3WflBSwVB",
        "outputId": "61af6a4a-2f77-4898-fd0c-a66dc59ca651"
      },
      "execution_count": null,
      "outputs": [
        {
          "output_type": "stream",
          "name": "stdout",
          "text": [
            "enter number to find square root:4\n",
            "The square root is:\n",
            "2.0\n"
          ]
        }
      ]
    },
    {
      "cell_type": "code",
      "source": [
        "#To find greatest number\n",
        "num1=int(input(\"enter number 1:\"))\n",
        "num2=int(input(\"enter number 2:\"))\n",
        "num3=int(input(\"enter number 3:\"))\n",
        "if num1>num2:\n",
        "  print(\"The greatest no. is \",num1)\n",
        "elif num2>num3:\n",
        "  print(\"The greatest no. is: \",num2)\n",
        "elif num3>num1:\n",
        "  print(\"The greatest no. is: \",num3)\n",
        "else:\n",
        "  print(\"All numbers are equal\")"
      ],
      "metadata": {
        "colab": {
          "base_uri": "https://localhost:8080/"
        },
        "id": "GhcPHOLLT6qV",
        "outputId": "280c5834-2408-4d6b-b52e-f0a6c35134d8"
      },
      "execution_count": null,
      "outputs": [
        {
          "output_type": "stream",
          "name": "stdout",
          "text": [
            "enter number 1:12\n",
            "enter number 2:12\n",
            "enter number 3:12\n",
            "All numbers are equal\n"
          ]
        }
      ]
    },
    {
      "cell_type": "code",
      "source": [
        "#To check if num is +ve , -ve or zero\n",
        "num=int(input(\"enter no.:\"))\n",
        "if num>0:\n",
        "  print(\"It is positive\")\n",
        "elif num<0:\n",
        "  print(\"It is negative\")\n",
        "else:\n",
        "  print(\"It is zero\")"
      ],
      "metadata": {
        "colab": {
          "base_uri": "https://localhost:8080/"
        },
        "id": "0GEdz_O_U2s2",
        "outputId": "7f7b4ec5-841a-4aee-9301-bb87207a82ab"
      },
      "execution_count": null,
      "outputs": [
        {
          "output_type": "stream",
          "name": "stdout",
          "text": [
            "enter no.:0\n",
            "It is zero\n"
          ]
        }
      ]
    }
  ]
}